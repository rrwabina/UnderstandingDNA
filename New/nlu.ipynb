{
 "metadata": {
  "language_info": {
   "codemirror_mode": {
    "name": "ipython",
    "version": 3
   },
   "file_extension": ".py",
   "mimetype": "text/x-python",
   "name": "python",
   "nbconvert_exporter": "python",
   "pygments_lexer": "ipython3",
   "version": "3.6.9"
  },
  "orig_nbformat": 2,
  "kernelspec": {
   "name": "python369jvsc74a57bd04cd7ab41f5fca4b9b44701077e38c5ffd31fe66a6cab21e0214b68d958d0e462",
   "display_name": "Python 3.6.9 64-bit ('local')"
  },
  "metadata": {
   "interpreter": {
    "hash": "4cd7ab41f5fca4b9b44701077e38c5ffd31fe66a6cab21e0214b68d958d0e462"
   }
  }
 },
 "nbformat": 4,
 "nbformat_minor": 2,
 "cells": [
  {
   "cell_type": "code",
   "execution_count": 96,
   "metadata": {},
   "outputs": [],
   "source": [
    "from Bio.SeqIO import parse \n",
    "from Bio.SeqRecord import SeqRecord \n",
    "from Bio.Seq import Seq \n",
    "\n",
    "file_name = \"./dna_dataset/gbbct1.seq\"\n",
    "file = open(file_name)"
   ]
  },
  {
   "cell_type": "code",
   "execution_count": 97,
   "metadata": {},
   "outputs": [
    {
     "output_type": "stream",
     "name": "stdout",
     "text": [
      "no display found. Using non-interactive Agg backend\n"
     ]
    }
   ],
   "source": [
    "import os\n",
    "import matplotlib as mpl\n",
    "if os.environ.get('DISPLAY','') == '':\n",
    "    print('no display found. Using non-interactive Agg backend')\n",
    "    mpl.use('Agg')\n",
    "import matplotlib.pyplot as plt"
   ]
  },
  {
   "cell_type": "code",
   "execution_count": 152,
   "metadata": {
    "tags": []
   },
   "outputs": [
    {
     "output_type": "stream",
     "name": "stdout",
     "text": [
      "Seq('ACACATGCAAGTCGAGCGGAAACGAGTTATCTGAACCTTCGGGGAACGATAACG...GCC')\nLength of DNA sequence 1471\n['C', 'A', 'C', 'A', 'T', 'G', 'C', 'A', 'A', 'G', 'T', 'C', 'G', 'A', 'G', 'C', 'G', 'G', 'A', 'A', 'A', 'C', 'G', 'A', 'G', 'T', 'T', 'A', 'T', 'C', 'T', 'G', 'A', 'A', 'C', 'C', 'T', 'T', 'C', 'G', 'G', 'G', 'G', 'A', 'A', 'C', 'G', 'A', 'T', 'A', 'A', 'C', 'G', 'G', 'C', 'G', 'T', 'C', 'G', 'A', 'G', 'C', 'G', 'G', 'C', 'G', 'G', 'A', 'C', 'G', 'G', 'G', 'T', 'G', 'A', 'G', 'T', 'A', 'A', 'T', 'G', 'C', 'C', 'T', 'G', 'G', 'G', 'A', 'A', 'A', 'T', 'T', 'G', 'C', 'C', 'C', 'T', 'G', 'A', 'T', 'G', 'T', 'G', 'G', 'G', 'G', 'G', 'A', 'T', 'A', 'A', 'C', 'T', 'A', 'T', 'T', 'G', 'G', 'A', 'A', 'A', 'C', 'G', 'A', 'T', 'A', 'G', 'C', 'T', 'A', 'A', 'T', 'A', 'C', 'C', 'G', 'C', 'A', 'T', 'A', 'A', 'T', 'G', 'T', 'C', 'T', 'A', 'C', 'G', 'G', 'A', 'C', 'C', 'A', 'A', 'A', 'G', 'A', 'G', 'G', 'G', 'G', 'G', 'A', 'C', 'C', 'T', 'T', 'C', 'G', 'G', 'G', 'C', 'C', 'T', 'C', 'T', 'C', 'G', 'C', 'T', 'T', 'C', 'A', 'G', 'G', 'A', 'T', 'A', 'T', 'G', 'C', 'C', 'C', 'A', 'G', 'G', 'T', 'G', 'G', 'G', 'A', 'T', 'T', 'A', 'G', 'C', 'T', 'A', 'G', 'T', 'T', 'G', 'G', 'T', 'G', 'A', 'G', 'G', 'T', 'A', 'A', 'T', 'G', 'G', 'C', 'T', 'C', 'A', 'C', 'C', 'A', 'A', 'G', 'G', 'C', 'G', 'A', 'C', 'G', 'A', 'T', 'C', 'C', 'C', 'T', 'A', 'G', 'C', 'T', 'G', 'G', 'T', 'C', 'T', 'G', 'A', 'G', 'A', 'G', 'G', 'A', 'T', 'G', 'A', 'T', 'C', 'A', 'G', 'C', 'C', 'A', 'C', 'A', 'C', 'T', 'G', 'G', 'A', 'A', 'C', 'T', 'G', 'A', 'G', 'A', 'C', 'A', 'C', 'G', 'G', 'T', 'C', 'C', 'A', 'G', 'A', 'C', 'T', 'C', 'C', 'T', 'A', 'C', 'G', 'G', 'G', 'A', 'G', 'G', 'C', 'A', 'G', 'C', 'A', 'G', 'T', 'G', 'G', 'G', 'G', 'A', 'A', 'T', 'A', 'T', 'T', 'G', 'C', 'A', 'C', 'A', 'A', 'T', 'G', 'G', 'G', 'C', 'G', 'C', 'A', 'A', 'G', 'C', 'C', 'T', 'G', 'A', 'T', 'G', 'C', 'A', 'G', 'C', 'C', 'A', 'T', 'G', 'C', 'C', 'G', 'C', 'G', 'T', 'G', 'T', 'A', 'T', 'G', 'A', 'A', 'G', 'A', 'A', 'G', 'G', 'C', 'C', 'T', 'T', 'C', 'G', 'G', 'G', 'T', 'T', 'G', 'T', 'A', 'A', 'A', 'G', 'T', 'A', 'C', 'T', 'T', 'T', 'C', 'A', 'G', 'T', 'C', 'G', 'T', 'G', 'A', 'G', 'G', 'A', 'A', 'G', 'G', 'C', 'N', 'N', 'T', 'A', 'N', 'A', 'G', 'T', 'T', 'A', 'A', 'T', 'A', 'G', 'C', 'T', 'T', 'N', 'G', 'T', 'N', 'G', 'T', 'T', 'T', 'G', 'A', 'C', 'G', 'T', 'T', 'A', 'G', 'C', 'G', 'A', 'C', 'A', 'G', 'A', 'A', 'G', 'A', 'A', 'G', 'C', 'A', 'C', 'C', 'G', 'G', 'C', 'T', 'A', 'A', 'C', 'T', 'C', 'C', 'G', 'T', 'G', 'C', 'C', 'A', 'G', 'C', 'A', 'G', 'C', 'C', 'G', 'C', 'G', 'G', 'T', 'A', 'A', 'T', 'A', 'C', 'G', 'G', 'A', 'G', 'G', 'G', 'T', 'G', 'C', 'G', 'A', 'G', 'C', 'G', 'T', 'T', 'A', 'A', 'T', 'C', 'G', 'G', 'A', 'A', 'T', 'T', 'A', 'C', 'T', 'G', 'G', 'G', 'C', 'G', 'T', 'A', 'A', 'A', 'G', 'C', 'G', 'C', 'A', 'T', 'G', 'C', 'A', 'G', 'G', 'T', 'G', 'G', 'T', 'T', 'T', 'G', 'T', 'T', 'A', 'A', 'G', 'T', 'C', 'A', 'G', 'A', 'T', 'G', 'T', 'G', 'A', 'A', 'A', 'G', 'C', 'C', 'C', 'G', 'G', 'G', 'G', 'C', 'T', 'C', 'A', 'A', 'C', 'C', 'T', 'C', 'G', 'G', 'A', 'A', 'C', 'C', 'G', 'C', 'A', 'T', 'T', 'T', 'G', 'A', 'A', 'A', 'C', 'T', 'G', 'G', 'C', 'A', 'G', 'G', 'C', 'T', 'A', 'G', 'A', 'G', 'T', 'A', 'C', 'T', 'G', 'T', 'A', 'N', 'A', 'G', 'G', 'G', 'G', 'G', 'G', 'T', 'A', 'G', 'A', 'A', 'T', 'T', 'T', 'C', 'A', 'G', 'G', 'T', 'G', 'T', 'A', 'G', 'C', 'G', 'G', 'T', 'G', 'A', 'A', 'A', 'T', 'G', 'C', 'G', 'T', 'A', 'G', 'A', 'G', 'A', 'T', 'C', 'T', 'G', 'A', 'A', 'G', 'G', 'A', 'A', 'T', 'A', 'C', 'C', 'A', 'G', 'T', 'G', 'G', 'C', 'G', 'A', 'A', 'G', 'G', 'C', 'G', 'G', 'C', 'C', 'C', 'C', 'C', 'T', 'G', 'G', 'A', 'C', 'A', 'G', 'A', 'T', 'A', 'C', 'T', 'G', 'A', 'C', 'A', 'C', 'T', 'C', 'A', 'G', 'A', 'T', 'G', 'C', 'G', 'A', 'A', 'A', 'G', 'C', 'G', 'T', 'G', 'G', 'G', 'G', 'A', 'G', 'C', 'A', 'A', 'A', 'C', 'A', 'G', 'G', 'A', 'T', 'T', 'A', 'G', 'A', 'T', 'A', 'C', 'C', 'C', 'T', 'G', 'G', 'T', 'A', 'G', 'T', 'C', 'C', 'A', 'C', 'G', 'C', 'C', 'G', 'T', 'A', 'A', 'A', 'C', 'G', 'A', 'T', 'G', 'T', 'C', 'T', 'A', 'C', 'T', 'T', 'G', 'G', 'A', 'G', 'G', 'T', 'T', 'G', 'T', 'G', 'G', 'C', 'C', 'T', 'T', 'G', 'A', 'G', 'C', 'C', 'G', 'T', 'G', 'G', 'C', 'T', 'T', 'T', 'C', 'G', 'G', 'A', 'G', 'C', 'T', 'A', 'A', 'C', 'G', 'C', 'G', 'T', 'T', 'A', 'A', 'G', 'T', 'A', 'G', 'A', 'C', 'C', 'G', 'C', 'C', 'T', 'G', 'G', 'G', 'G', 'A', 'G', 'T', 'A', 'C', 'G', 'G', 'T', 'C', 'G', 'C', 'A', 'A', 'G', 'A', 'T', 'T', 'A', 'A', 'A', 'A', 'C', 'T', 'C', 'A', 'A', 'A', 'T', 'G', 'A', 'A', 'T', 'T', 'G', 'A', 'C', 'G', 'G', 'G', 'G', 'G', 'C', 'C', 'C', 'G', 'C', 'A', 'C', 'A', 'A', 'G', 'C', 'G', 'G', 'T', 'G', 'G', 'A', 'G', 'C', 'A', 'T', 'G', 'T', 'G', 'G', 'T', 'T', 'T', 'A', 'A', 'T', 'T', 'C', 'G', 'A', 'T', 'G', 'C', 'A', 'A', 'C', 'G', 'C', 'G', 'A', 'A', 'G', 'A', 'A', 'C', 'C', 'T', 'T', 'A', 'C', 'C', 'T', 'A', 'C', 'T', 'C', 'T', 'T', 'G', 'A', 'C', 'A', 'T', 'C', 'C', 'A', 'G', 'A', 'G', 'A', 'A', 'C', 'T', 'T', 'T', 'N', 'C', 'A', 'G', 'A', 'G', 'A', 'T', 'G', 'A', 'A', 'T', 'T', 'G', 'G', 'T', 'G', 'C', 'C', 'T', 'T', 'C', 'G', 'G', 'G', 'A', 'A', 'C', 'T', 'C', 'T', 'G', 'A', 'G', 'A', 'C', 'A', 'G', 'G', 'T', 'G', 'C', 'T', 'G', 'C', 'A', 'T', 'G', 'G', 'C', 'T', 'G', 'T', 'C', 'G', 'T', 'C', 'A', 'G', 'C', 'T', 'C', 'G', 'T', 'G', 'T', 'T', 'G', 'T', 'G', 'A', 'A', 'A', 'T', 'G', 'T', 'T', 'G', 'G', 'G', 'T', 'T', 'A', 'A', 'G', 'T', 'C', 'C', 'C', 'G', 'C', 'A', 'A', 'C', 'G', 'A', 'G', 'C', 'G', 'C', 'A', 'A', 'C', 'C', 'C', 'T', 'T', 'A', 'T', 'C', 'C', 'T', 'T', 'G', 'T', 'T', 'T', 'G', 'C', 'C', 'A', 'G', 'C', 'A', 'C', 'G', 'T', 'A', 'A', 'T', 'G', 'G', 'T', 'G', 'G', 'G', 'A', 'A', 'C', 'T', 'C', 'C', 'A', 'G', 'G', 'G', 'A', 'G', 'A', 'C', 'T', 'G', 'C', 'C', 'G', 'G', 'T', 'G', 'A', 'T', 'A', 'A', 'A', 'C', 'C', 'G', 'G', 'A', 'G', 'G', 'A', 'A', 'G', 'G', 'T', 'G', 'G', 'G', 'G', 'A', 'C', 'G', 'A', 'C', 'G', 'T', 'C', 'A', 'A', 'G', 'T', 'C', 'A', 'T', 'C', 'A', 'T', 'G', 'G', 'C', 'C', 'C', 'T', 'T', 'A', 'C', 'G', 'A', 'G', 'T', 'A', 'G', 'G', 'G', 'C', 'T', 'A', 'C', 'A', 'C', 'A', 'C', 'G', 'T', 'G', 'C', 'T', 'A', 'C', 'A', 'A', 'T', 'G', 'G', 'C', 'G', 'C', 'A', 'T', 'A', 'C', 'A', 'G', 'A', 'G', 'G', 'G', 'C', 'A', 'G', 'C', 'C', 'A', 'A', 'C', 'C', 'A', 'G', 'C', 'G', 'A', 'T', 'G', 'G', 'T', 'G', 'A', 'G', 'C', 'G', 'A', 'A', 'T', 'C', 'C', 'C', 'A', 'A', 'A', 'A', 'A', 'G', 'T', 'G', 'C', 'G', 'T', 'C', 'G', 'T', 'A', 'G', 'T', 'C', 'C', 'G', 'G', 'A', 'T', 'T', 'G', 'G', 'A', 'G', 'T', 'C', 'T', 'G', 'C', 'A', 'A', 'C', 'T', 'C', 'G', 'A', 'C', 'T', 'C', 'C', 'A', 'T', 'G', 'A', 'A', 'G', 'T', 'C', 'G', 'G', 'A', 'A', 'T', 'C', 'G', 'C', 'T', 'A', 'G', 'T', 'A', 'A', 'T', 'C', 'G', 'T', 'A', 'G', 'A', 'T', 'C', 'A', 'G', 'A', 'A', 'T', 'G', 'T', 'T', 'A', 'C', 'G', 'G', 'T', 'G', 'A', 'A', 'T', 'A', 'C', 'G', 'T', 'T', 'C', 'C', 'C', 'G', 'G', 'G', 'C', 'C', 'T', 'T', 'G', 'T', 'A', 'C', 'A', 'C', 'A', 'C', 'C', 'G', 'C', 'C', 'C', 'G', 'T', 'C', 'A', 'C', 'A', 'C', 'C', 'A', 'T', 'G', 'G', 'G', 'A', 'G', 'T', 'G', 'G', 'G', 'C', 'T', 'G', 'C', 'A', 'A', 'A', 'A', 'G', 'A', 'A', 'G', 'T', 'G', 'G', 'G', 'T', 'A', 'G', 'T', 'T', 'T', 'A', 'A', 'C', 'C', 'T', 'T', 'C', 'G', 'G', 'G', 'A', 'G', 'G', 'A', 'C', 'G', 'C', 'T', 'C', 'A', 'C', 'C', 'A', 'C', 'T', 'T', 'T', 'G', 'T', 'G', 'G', 'T', 'T', 'C', 'A', 'T', 'G', 'A', 'C', 'T', 'G', 'G', 'G', 'G', 'T', 'G', 'A', 'A', 'G', 'T', 'C', 'G', 'T', 'A', 'A', 'C', 'A', 'A', 'G', 'G', 'T', 'A', 'G', 'C', 'C']\nCACATGCAAGTCGAGCGGAAACGAGTTATCTGAACCTTCGGGGAACGATAACGGCGTCGAGCGGCGGACGGGTGAGTAATGCCTGGGAAATTGCCCTGATGTGGGGGATAACTATTGGAAACGATAGCTAATACCGCATAATGTCTACGGACCAAAGAGGGGGACCTTCGGGCCTCTCGCTTCAGGATATGCCCAGGTGGGATTAGCTAGTTGGTGAGGTAATGGCTCACCAAGGCGACGATCCCTAGCTGGTCTGAGAGGATGATCAGCCACACTGGAACTGAGACACGGTCCAGACTCCTACGGGAGGCAGCAGTGGGGAATATTGCACAATGGGCGCAAGCCTGATGCAGCCATGCCGCGTGTATGAAGAAGGCCTTCGGGTTGTAAAGTACTTTCAGTCGTGAGGAAGGCNNTANAGTTAATAGCTTNGTNGTTTGACGTTAGCGACAGAAGAAGCACCGGCTAACTCCGTGCCAGCAGCCGCGGTAATACGGAGGGTGCGAGCGTTAATCGGAATTACTGGGCGTAAAGCGCATGCAGGTGGTTTGTTAAGTCAGATGTGAAAGCCCGGGGCTCAACCTCGGAACCGCATTTGAAACTGGCAGGCTAGAGTACTGTANAGGGGGGTAGAATTTCAGGTGTAGCGGTGAAATGCGTAGAGATCTGAAGGAATACCAGTGGCGAAGGCGGCCCCCTGGACAGATACTGACACTCAGATGCGAAAGCGTGGGGAGCAAACAGGATTAGATACCCTGGTAGTCCACGCCGTAAACGATGTCTACTTGGAGGTTGTGGCCTTGAGCCGTGGCTTTCGGAGCTAACGCGTTAAGTAGACCGCCTGGGGAGTACGGTCGCAAGATTAAAACTCAAATGAATTGACGGGGGCCCGCACAAGCGGTGGAGCATGTGGTTTAATTCGATGCAACGCGAAGAACCTTACCTACTCTTGACATCCAGAGAACTTTNCAGAGATGAATTGGTGCCTTCGGGAACTCTGAGACAGGTGCTGCATGGCTGTCGTCAGCTCGTGTTGTGAAATGTTGGGTTAAGTCCCGCAACGAGCGCAACCCTTATCCTTGTTTGCCAGCACGTAATGGTGGGAACTCCAGGGAGACTGCCGGTGATAAACCGGAGGAAGGTGGGGACGACGTCAAGTCATCATGGCCCTTACGAGTAGGGCTACACACGTGCTACAATGGCGCATACAGAGGGCAGCCAACCAGCGATGGTGAGCGAATCCCAAAAAGTGCGTCGTAGTCCGGATTGGAGTCTGCAACTCGACTCCATGAAGTCGGAATCGCTAGTAATCGTAGATCAGAATGTTACGGTGAATACGTTCCCGGGCCTTGTACACACCGCCCGTCACACCATGGGAGTGGGCTGCAAAAGAAGTGGGTAGTTTAACCTTCGGGAGGACGCTCACCACTTTGTGGTTCATGACTGGGGTGAAGTCGTAACAAGGTAGCC\n"
     ]
    }
   ],
   "source": [
    "sequence=[]\n",
    "count = 0\n",
    "\n",
    "for record in parse(file, \"genbank\"):\n",
    "    print(repr(record.seq))\n",
    "    print(\"Length of DNA sequence \" + str(len(record)))\n",
    "    coding_dna = record.seq\n",
    "    coding_dna = list(map(str,coding_dna))\n",
    "    sting_dna = str(record.seq)\n",
    "    print(coding_dna[1:])\n",
    "    print(\"\".join(coding_dna[1:]))\n",
    "    break\n",
    "        "
   ]
  },
  {
   "cell_type": "code",
   "execution_count": null,
   "metadata": {},
   "outputs": [],
   "source": [
    "seq\n",
    "for dna in record.seq:\n",
    "    "
   ]
  },
  {
   "cell_type": "code",
   "execution_count": 4,
   "metadata": {},
   "outputs": [
    {
     "output_type": "stream",
     "name": "stdout",
     "text": [
      "A Grammar: Grammar with 11 productions (start state = S)\n    S -> Q\n    Q -> 'A' Q\n    Q -> 'T' Q\n    Q -> 'C' Q\n    Q -> 'G' Q\n    Q -> P Q\n    Q -> \n    P -> 'A' P 'T'\n    P -> 'T' P 'A'\n    P -> 'C' P 'G'\n    P -> 'G' P 'C'\ngrammar.start()   => S\ngrammar.productions() =>\n[S -> Q, Q -> 'A' Q, Q -> 'T' Q, Q -> 'C' Q, Q -> 'G' Q, Q -> P Q, Q -> , P -> 'A' P 'T', P -> 'T' P 'A', P -> 'C' P 'G', P -> 'G' P 'C']\n"
     ]
    }
   ],
   "source": [
    "\n",
    "# Create some Grammar Productions\n",
    "from nltk import CFG\n",
    "import nltk\n",
    "grammar = CFG.fromstring(\"\"\"\n",
    "S -> Q\n",
    "Q -> 'A' Q | 'T' Q | 'C' Q | 'G' Q\n",
    "Q -> P Q\n",
    "Q -> \n",
    "P -> 'A' P 'T' | 'T' P 'A' | 'C' P 'G' | 'G' P 'C'\n",
    "\"\"\")\n",
    "\n",
    "print('A Grammar:', grammar)\n",
    "print('grammar.start()   =>', grammar.start())\n",
    "print('grammar.productions() =>')\n",
    "# Use string.replace(...) is to line-wrap the output.\n",
    "print(grammar.productions())"
   ]
  },
  {
   "cell_type": "code",
   "execution_count": 8,
   "metadata": {},
   "outputs": [
    {
     "output_type": "stream",
     "name": "stdout",
     "text": [
      "<map object at 0x7f819adc1cc0>\n"
     ]
    }
   ],
   "source": [
    "a = \"AUGUGG\"    \n",
    "new_a = list(map(str,coding_dna))\n",
    "string_a = map(str,coding_dna)\n",
    "print(string_a)"
   ]
  },
  {
   "cell_type": "code",
   "execution_count": 17,
   "metadata": {
    "tags": []
   },
   "outputs": [
    {
     "output_type": "stream",
     "name": "stdout",
     "text": [
      "(S (Q A (Q T (Q T (Q G (Q A (Q G (Q T (Q )))))))))\n"
     ]
    }
   ],
   "source": [
    "sent = ['A', 'T', 'T', 'G', 'A', 'G', 'T']\n",
    "parser = nltk.ChartParser(grammar)\n",
    "for tree in parser.parse(sent):\n",
    "     print(tree)"
   ]
  },
  {
   "cell_type": "code",
   "execution_count": 18,
   "metadata": {},
   "outputs": [
    {
     "output_type": "error",
     "ename": "TclError",
     "evalue": "no display name and no $DISPLAY environment variable",
     "traceback": [
      "\u001b[0;31m---------------------------------------------------------------------------\u001b[0m",
      "\u001b[0;31mTclError\u001b[0m                                  Traceback (most recent call last)",
      "\u001b[0;32m/usr/local/lib/python3.6/dist-packages/IPython/core/formatters.py\u001b[0m in \u001b[0;36m__call__\u001b[0;34m(self, obj)\u001b[0m\n\u001b[1;32m    343\u001b[0m             \u001b[0mmethod\u001b[0m \u001b[0;34m=\u001b[0m \u001b[0mget_real_method\u001b[0m\u001b[0;34m(\u001b[0m\u001b[0mobj\u001b[0m\u001b[0;34m,\u001b[0m \u001b[0mself\u001b[0m\u001b[0;34m.\u001b[0m\u001b[0mprint_method\u001b[0m\u001b[0;34m)\u001b[0m\u001b[0;34m\u001b[0m\u001b[0;34m\u001b[0m\u001b[0m\n\u001b[1;32m    344\u001b[0m             \u001b[0;32mif\u001b[0m \u001b[0mmethod\u001b[0m \u001b[0;32mis\u001b[0m \u001b[0;32mnot\u001b[0m \u001b[0;32mNone\u001b[0m\u001b[0;34m:\u001b[0m\u001b[0;34m\u001b[0m\u001b[0;34m\u001b[0m\u001b[0m\n\u001b[0;32m--> 345\u001b[0;31m                 \u001b[0;32mreturn\u001b[0m \u001b[0mmethod\u001b[0m\u001b[0;34m(\u001b[0m\u001b[0;34m)\u001b[0m\u001b[0;34m\u001b[0m\u001b[0;34m\u001b[0m\u001b[0m\n\u001b[0m\u001b[1;32m    346\u001b[0m             \u001b[0;32mreturn\u001b[0m \u001b[0;32mNone\u001b[0m\u001b[0;34m\u001b[0m\u001b[0;34m\u001b[0m\u001b[0m\n\u001b[1;32m    347\u001b[0m         \u001b[0;32melse\u001b[0m\u001b[0;34m:\u001b[0m\u001b[0;34m\u001b[0m\u001b[0;34m\u001b[0m\u001b[0m\n",
      "\u001b[0;32m/usr/local/lib/python3.6/dist-packages/nltk/tree.py\u001b[0m in \u001b[0;36m_repr_png_\u001b[0;34m(self)\u001b[0m\n\u001b[1;32m    802\u001b[0m         \u001b[0;32mfrom\u001b[0m \u001b[0mnltk\u001b[0m\u001b[0;34m.\u001b[0m\u001b[0minternals\u001b[0m \u001b[0;32mimport\u001b[0m \u001b[0mfind_binary\u001b[0m\u001b[0;34m\u001b[0m\u001b[0;34m\u001b[0m\u001b[0m\n\u001b[1;32m    803\u001b[0m \u001b[0;34m\u001b[0m\u001b[0m\n\u001b[0;32m--> 804\u001b[0;31m         \u001b[0m_canvas_frame\u001b[0m \u001b[0;34m=\u001b[0m \u001b[0mCanvasFrame\u001b[0m\u001b[0;34m(\u001b[0m\u001b[0;34m)\u001b[0m\u001b[0;34m\u001b[0m\u001b[0;34m\u001b[0m\u001b[0m\n\u001b[0m\u001b[1;32m    805\u001b[0m         \u001b[0mwidget\u001b[0m \u001b[0;34m=\u001b[0m \u001b[0mtree_to_treesegment\u001b[0m\u001b[0;34m(\u001b[0m\u001b[0m_canvas_frame\u001b[0m\u001b[0;34m.\u001b[0m\u001b[0mcanvas\u001b[0m\u001b[0;34m(\u001b[0m\u001b[0;34m)\u001b[0m\u001b[0;34m,\u001b[0m \u001b[0mself\u001b[0m\u001b[0;34m)\u001b[0m\u001b[0;34m\u001b[0m\u001b[0;34m\u001b[0m\u001b[0m\n\u001b[1;32m    806\u001b[0m         \u001b[0m_canvas_frame\u001b[0m\u001b[0;34m.\u001b[0m\u001b[0madd_widget\u001b[0m\u001b[0;34m(\u001b[0m\u001b[0mwidget\u001b[0m\u001b[0;34m)\u001b[0m\u001b[0;34m\u001b[0m\u001b[0;34m\u001b[0m\u001b[0m\n",
      "\u001b[0;32m/usr/local/lib/python3.6/dist-packages/nltk/draw/util.py\u001b[0m in \u001b[0;36m__init__\u001b[0;34m(self, parent, **kw)\u001b[0m\n\u001b[1;32m   1791\u001b[0m         \u001b[0;31m# If no parent was given, set up a top-level window.\u001b[0m\u001b[0;34m\u001b[0m\u001b[0;34m\u001b[0m\u001b[0;34m\u001b[0m\u001b[0m\n\u001b[1;32m   1792\u001b[0m         \u001b[0;32mif\u001b[0m \u001b[0mparent\u001b[0m \u001b[0;32mis\u001b[0m \u001b[0;32mNone\u001b[0m\u001b[0;34m:\u001b[0m\u001b[0;34m\u001b[0m\u001b[0;34m\u001b[0m\u001b[0m\n\u001b[0;32m-> 1793\u001b[0;31m             \u001b[0mself\u001b[0m\u001b[0;34m.\u001b[0m\u001b[0m_parent\u001b[0m \u001b[0;34m=\u001b[0m \u001b[0mTk\u001b[0m\u001b[0;34m(\u001b[0m\u001b[0;34m)\u001b[0m\u001b[0;34m\u001b[0m\u001b[0;34m\u001b[0m\u001b[0m\n\u001b[0m\u001b[1;32m   1794\u001b[0m             \u001b[0mself\u001b[0m\u001b[0;34m.\u001b[0m\u001b[0m_parent\u001b[0m\u001b[0;34m.\u001b[0m\u001b[0mtitle\u001b[0m\u001b[0;34m(\u001b[0m\u001b[0;34m\"NLTK\"\u001b[0m\u001b[0;34m)\u001b[0m\u001b[0;34m\u001b[0m\u001b[0;34m\u001b[0m\u001b[0m\n\u001b[1;32m   1795\u001b[0m             \u001b[0mself\u001b[0m\u001b[0;34m.\u001b[0m\u001b[0m_parent\u001b[0m\u001b[0;34m.\u001b[0m\u001b[0mbind\u001b[0m\u001b[0;34m(\u001b[0m\u001b[0;34m\"<Control-p>\"\u001b[0m\u001b[0;34m,\u001b[0m \u001b[0;32mlambda\u001b[0m \u001b[0me\u001b[0m\u001b[0;34m:\u001b[0m \u001b[0mself\u001b[0m\u001b[0;34m.\u001b[0m\u001b[0mprint_to_file\u001b[0m\u001b[0;34m(\u001b[0m\u001b[0;34m)\u001b[0m\u001b[0;34m)\u001b[0m\u001b[0;34m\u001b[0m\u001b[0;34m\u001b[0m\u001b[0m\n",
      "\u001b[0;32m/usr/lib/python3.6/tkinter/__init__.py\u001b[0m in \u001b[0;36m__init__\u001b[0;34m(self, screenName, baseName, className, useTk, sync, use)\u001b[0m\n\u001b[1;32m   2021\u001b[0m                 \u001b[0mbaseName\u001b[0m \u001b[0;34m=\u001b[0m \u001b[0mbaseName\u001b[0m \u001b[0;34m+\u001b[0m \u001b[0mext\u001b[0m\u001b[0;34m\u001b[0m\u001b[0;34m\u001b[0m\u001b[0m\n\u001b[1;32m   2022\u001b[0m         \u001b[0minteractive\u001b[0m \u001b[0;34m=\u001b[0m \u001b[0;36m0\u001b[0m\u001b[0;34m\u001b[0m\u001b[0;34m\u001b[0m\u001b[0m\n\u001b[0;32m-> 2023\u001b[0;31m         \u001b[0mself\u001b[0m\u001b[0;34m.\u001b[0m\u001b[0mtk\u001b[0m \u001b[0;34m=\u001b[0m \u001b[0m_tkinter\u001b[0m\u001b[0;34m.\u001b[0m\u001b[0mcreate\u001b[0m\u001b[0;34m(\u001b[0m\u001b[0mscreenName\u001b[0m\u001b[0;34m,\u001b[0m \u001b[0mbaseName\u001b[0m\u001b[0;34m,\u001b[0m \u001b[0mclassName\u001b[0m\u001b[0;34m,\u001b[0m \u001b[0minteractive\u001b[0m\u001b[0;34m,\u001b[0m \u001b[0mwantobjects\u001b[0m\u001b[0;34m,\u001b[0m \u001b[0museTk\u001b[0m\u001b[0;34m,\u001b[0m \u001b[0msync\u001b[0m\u001b[0;34m,\u001b[0m \u001b[0muse\u001b[0m\u001b[0;34m)\u001b[0m\u001b[0;34m\u001b[0m\u001b[0;34m\u001b[0m\u001b[0m\n\u001b[0m\u001b[1;32m   2024\u001b[0m         \u001b[0;32mif\u001b[0m \u001b[0museTk\u001b[0m\u001b[0;34m:\u001b[0m\u001b[0;34m\u001b[0m\u001b[0;34m\u001b[0m\u001b[0m\n\u001b[1;32m   2025\u001b[0m             \u001b[0mself\u001b[0m\u001b[0;34m.\u001b[0m\u001b[0m_loadtk\u001b[0m\u001b[0;34m(\u001b[0m\u001b[0;34m)\u001b[0m\u001b[0;34m\u001b[0m\u001b[0;34m\u001b[0m\u001b[0m\n",
      "\u001b[0;31mTclError\u001b[0m: no display name and no $DISPLAY environment variable"
     ]
    }
   ],
   "source": [
    "tree = Tree.fromstring('(S (NP this tree) (VP (V is) (AdjP pretty)))')\n",
    "display(tree)"
   ]
  },
  {
   "cell_type": "code",
   "execution_count": 5,
   "metadata": {},
   "outputs": [
    {
     "output_type": "error",
     "ename": "TclError",
     "evalue": "no display name and no $DISPLAY environment variable",
     "traceback": [
      "\u001b[0;31m---------------------------------------------------------------------------\u001b[0m",
      "\u001b[0;31mTclError\u001b[0m                                  Traceback (most recent call last)",
      "\u001b[0;32m<ipython-input-5-6e4b9e8adeff>\u001b[0m in \u001b[0;36m<module>\u001b[0;34m\u001b[0m\n\u001b[1;32m      2\u001b[0m \u001b[0;32mfrom\u001b[0m \u001b[0mnltk\u001b[0m\u001b[0;34m.\u001b[0m\u001b[0mdraw\u001b[0m\u001b[0;34m.\u001b[0m\u001b[0mtree\u001b[0m \u001b[0;32mimport\u001b[0m \u001b[0mTreeView\u001b[0m\u001b[0;34m\u001b[0m\u001b[0;34m\u001b[0m\u001b[0m\n\u001b[1;32m      3\u001b[0m \u001b[0mt\u001b[0m \u001b[0;34m=\u001b[0m \u001b[0mTree\u001b[0m\u001b[0;34m.\u001b[0m\u001b[0mfromstring\u001b[0m\u001b[0;34m(\u001b[0m\u001b[0;34m'(S (Q A (Q T (Q T (Q G (Q A (Q G (Q T (Q )))))))))'\u001b[0m\u001b[0;34m)\u001b[0m\u001b[0;34m\u001b[0m\u001b[0;34m\u001b[0m\u001b[0m\n\u001b[0;32m----> 4\u001b[0;31m \u001b[0mTreeView\u001b[0m\u001b[0;34m(\u001b[0m\u001b[0mt\u001b[0m\u001b[0;34m)\u001b[0m\u001b[0;34m.\u001b[0m\u001b[0m_cframe\u001b[0m\u001b[0;34m.\u001b[0m\u001b[0mprint_to_file\u001b[0m\u001b[0;34m(\u001b[0m\u001b[0;34m'output.ps'\u001b[0m\u001b[0;34m)\u001b[0m\u001b[0;34m\u001b[0m\u001b[0;34m\u001b[0m\u001b[0m\n\u001b[0m\u001b[1;32m      5\u001b[0m \u001b[0;34m\u001b[0m\u001b[0m\n\u001b[1;32m      6\u001b[0m \u001b[0;32mimport\u001b[0m \u001b[0mos\u001b[0m\u001b[0;34m\u001b[0m\u001b[0;34m\u001b[0m\u001b[0m\n",
      "\u001b[0;32m/usr/local/lib/python3.6/dist-packages/nltk/draw/tree.py\u001b[0m in \u001b[0;36m__init__\u001b[0;34m(self, *trees)\u001b[0m\n\u001b[1;32m    857\u001b[0m         \u001b[0mself\u001b[0m\u001b[0;34m.\u001b[0m\u001b[0m_trees\u001b[0m \u001b[0;34m=\u001b[0m \u001b[0mtrees\u001b[0m\u001b[0;34m\u001b[0m\u001b[0;34m\u001b[0m\u001b[0m\n\u001b[1;32m    858\u001b[0m \u001b[0;34m\u001b[0m\u001b[0m\n\u001b[0;32m--> 859\u001b[0;31m         \u001b[0mself\u001b[0m\u001b[0;34m.\u001b[0m\u001b[0m_top\u001b[0m \u001b[0;34m=\u001b[0m \u001b[0mTk\u001b[0m\u001b[0;34m(\u001b[0m\u001b[0;34m)\u001b[0m\u001b[0;34m\u001b[0m\u001b[0;34m\u001b[0m\u001b[0m\n\u001b[0m\u001b[1;32m    860\u001b[0m         \u001b[0mself\u001b[0m\u001b[0;34m.\u001b[0m\u001b[0m_top\u001b[0m\u001b[0;34m.\u001b[0m\u001b[0mtitle\u001b[0m\u001b[0;34m(\u001b[0m\u001b[0;34m\"NLTK\"\u001b[0m\u001b[0;34m)\u001b[0m\u001b[0;34m\u001b[0m\u001b[0;34m\u001b[0m\u001b[0m\n\u001b[1;32m    861\u001b[0m         \u001b[0mself\u001b[0m\u001b[0;34m.\u001b[0m\u001b[0m_top\u001b[0m\u001b[0;34m.\u001b[0m\u001b[0mbind\u001b[0m\u001b[0;34m(\u001b[0m\u001b[0;34m\"<Control-x>\"\u001b[0m\u001b[0;34m,\u001b[0m \u001b[0mself\u001b[0m\u001b[0;34m.\u001b[0m\u001b[0mdestroy\u001b[0m\u001b[0;34m)\u001b[0m\u001b[0;34m\u001b[0m\u001b[0;34m\u001b[0m\u001b[0m\n",
      "\u001b[0;32m/usr/lib/python3.6/tkinter/__init__.py\u001b[0m in \u001b[0;36m__init__\u001b[0;34m(self, screenName, baseName, className, useTk, sync, use)\u001b[0m\n\u001b[1;32m   2021\u001b[0m                 \u001b[0mbaseName\u001b[0m \u001b[0;34m=\u001b[0m \u001b[0mbaseName\u001b[0m \u001b[0;34m+\u001b[0m \u001b[0mext\u001b[0m\u001b[0;34m\u001b[0m\u001b[0;34m\u001b[0m\u001b[0m\n\u001b[1;32m   2022\u001b[0m         \u001b[0minteractive\u001b[0m \u001b[0;34m=\u001b[0m \u001b[0;36m0\u001b[0m\u001b[0;34m\u001b[0m\u001b[0;34m\u001b[0m\u001b[0m\n\u001b[0;32m-> 2023\u001b[0;31m         \u001b[0mself\u001b[0m\u001b[0;34m.\u001b[0m\u001b[0mtk\u001b[0m \u001b[0;34m=\u001b[0m \u001b[0m_tkinter\u001b[0m\u001b[0;34m.\u001b[0m\u001b[0mcreate\u001b[0m\u001b[0;34m(\u001b[0m\u001b[0mscreenName\u001b[0m\u001b[0;34m,\u001b[0m \u001b[0mbaseName\u001b[0m\u001b[0;34m,\u001b[0m \u001b[0mclassName\u001b[0m\u001b[0;34m,\u001b[0m \u001b[0minteractive\u001b[0m\u001b[0;34m,\u001b[0m \u001b[0mwantobjects\u001b[0m\u001b[0;34m,\u001b[0m \u001b[0museTk\u001b[0m\u001b[0;34m,\u001b[0m \u001b[0msync\u001b[0m\u001b[0;34m,\u001b[0m \u001b[0muse\u001b[0m\u001b[0;34m)\u001b[0m\u001b[0;34m\u001b[0m\u001b[0;34m\u001b[0m\u001b[0m\n\u001b[0m\u001b[1;32m   2024\u001b[0m         \u001b[0;32mif\u001b[0m \u001b[0museTk\u001b[0m\u001b[0;34m:\u001b[0m\u001b[0;34m\u001b[0m\u001b[0;34m\u001b[0m\u001b[0m\n\u001b[1;32m   2025\u001b[0m             \u001b[0mself\u001b[0m\u001b[0;34m.\u001b[0m\u001b[0m_loadtk\u001b[0m\u001b[0;34m(\u001b[0m\u001b[0;34m)\u001b[0m\u001b[0;34m\u001b[0m\u001b[0;34m\u001b[0m\u001b[0m\n",
      "\u001b[0;31mTclError\u001b[0m: no display name and no $DISPLAY environment variable"
     ]
    }
   ],
   "source": [
    "from nltk.tree import Tree\n",
    "from nltk.draw.tree import TreeView\n",
    "t = Tree.fromstring('(S (Q A (Q T (Q T (Q G (Q A (Q G (Q T (Q )))))))))')\n",
    "TreeView(t)._cframe.print_to_file('output.ps')\n",
    "\n",
    "import os\n",
    "os.system('convert output.ps output.png')"
   ]
  },
  {
   "cell_type": "code",
   "execution_count": null,
   "metadata": {},
   "outputs": [],
   "source": [
    "def tokenize(phrase):\n",
    "    \"\"\"\n",
    "    Returns a grammar phrase based on the lexical input.\n",
    "    \"\"\"\n",
    "    for token in nltk.word_tokenize(phrase):\n",
    "        token = token.lower()\n",
    "        yield token"
   ]
  },
  {
   "cell_type": "code",
   "execution_count": null,
   "metadata": {},
   "outputs": [],
   "source": [
    "cfg_file = \"/root/labs/NLU_DNAAnalysis/grammar.cfg\"\n",
    "grammar = nltk.data.load(cfg_file)\n",
    "parser  = nltk.ChartParser(grammar)\n"
   ]
  },
  {
   "cell_type": "code",
   "execution_count": null,
   "metadata": {},
   "outputs": [],
   "source": [
    "nltk.download('punkt')\n",
    "message = repr(messenger_rna)\n",
    "\n",
    "#----------------------------------------------------------\n",
    "# Preprocessing\n",
    "#----------------------------------------------------------\n",
    "def preprocess(text):\n",
    "    sentences = nltk.sent_tokenize(text)                     # sentence segmentation\n",
    "    sentences = [nltk.word_tokenize(s) for s in sentences]   # word tokenization\n",
    "    # THIS LINE SEEMS TO BE THE ISSUE\n",
    "    # sentences = [nltk.pos_tag(s) for s in sentences]         # part-of-speech tagger\n",
    "    return sentences\n",
    "\n",
    "preprocessed = preprocess(new_a)\n",
    "\n",
    "#----------------------------------------------------------\n",
    "# Parsing\n",
    "#----------------------------------------------------------\n",
    "\n",
    "for sentence in preprocessed:\n",
    "    for tree in parser.parse(sentence):\n",
    "        print(tree)"
   ]
  },
  {
   "cell_type": "code",
   "execution_count": null,
   "metadata": {},
   "outputs": [],
   "source": []
  },
  {
   "cell_type": "code",
   "execution_count": null,
   "metadata": {},
   "outputs": [],
   "source": []
  }
 ]
}